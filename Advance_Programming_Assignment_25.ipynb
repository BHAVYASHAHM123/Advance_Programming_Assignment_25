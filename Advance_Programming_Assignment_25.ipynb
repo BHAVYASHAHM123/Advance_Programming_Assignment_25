{
  "cells": [
    {
      "cell_type": "markdown",
      "id": "ed706179",
      "metadata": {
        "id": "ed706179"
      },
      "source": [
        "Q1)\n",
        "1. Write four functions that directly mutate a list:\n",
        "1. repeat(lst, n): Repeat lst n times.\n",
        "2. add(lst, x): Adds x to the end of the lst.\n",
        "3. remove(lst, m, n): Removes all elements between indices m and n\n",
        "inclusive in lst.\n",
        "4. concat(lst, x): concatenates lst with x (another list).\n",
        "Examples\n",
        "lst = [1, 2, 3, 4]\n",
        "repeat(lst, 3) ➞ [1, 2, 3, 4, 1, 2, 3, 4, 1, 2, 3, 4]\n",
        "add(lst, 1) ➞ [1, 2, 3, 4, 1, 2, 3, 4, 1, 2, 3, 4, 1]\n",
        "remove(lst, 1, 12) ➞ [1]\n",
        "concat(lst, [3, 4]) ➞ [1, 3, 4]"
      ]
    },
    {
      "cell_type": "code",
      "execution_count": null,
      "id": "030ca650",
      "metadata": {
        "id": "030ca650",
        "outputId": "b576aa6f-d244-4950-f448-28953895da94"
      },
      "outputs": [
        {
          "name": "stdout",
          "output_type": "stream",
          "text": [
            "Repeating list [1, 2, 3, 4, 1, 2, 3, 4, 1, 2, 3, 4]\n",
            "adding at the end of list [1, 2, 3, 4, 1, 2, 3, 4, 1, 2, 3, 4, 8]\n",
            "Removing some elements form list [1, 2, 3, 4, 8]\n",
            "concating list [1, 2, 3, 4, 8, 6, 8]\n"
          ]
        }
      ],
      "source": [
        "\n",
        "def repeat(lst,n):\n",
        "    return lst * n\n",
        "\n",
        "def add(lst, x):\n",
        "    lst.append(x)\n",
        "    return lst\n",
        "\n",
        "def remove(lst,m,n):\n",
        "    del lst[m:n+1]\n",
        "    return lst\n",
        "\n",
        "def concat(lst,lst2):\n",
        "    return lst + lst2\n",
        "    \n",
        "\n",
        "lst = [1,2,3,4]\n",
        "lst = repeat(lst,3)\n",
        "print('Repeating list', lst)\n",
        "lst = add(lst,8)\n",
        "print(\"adding at the end of list\",lst)\n",
        "lst = remove(lst,1,8)\n",
        "print('Removing some elements form list',lst)\n",
        "lst = concat(lst,[6,8])\n",
        "print('concating list',lst)"
      ]
    },
    {
      "cell_type": "markdown",
      "id": "b6361e9a",
      "metadata": {
        "id": "b6361e9a"
      },
      "source": [
        "Q2). The classic game of Mastermind is played on a tray on which the\n",
        "Mastermind conceals a code and the Guesser has 10 tries to guess it. The\n",
        "code is a sequence of 4 (or 6, sometimes more) pegs of different colors. Each\n",
        "guess is a corresponding sequence of 4 (or more) pegs of different colors. A\n",
        "guess is 'correct' when the color of every peg in the guess exactly matches\n",
        "the corresponding peg in the Mastermind's code.\n",
        "After each guess by the Guesser, the Mastermind will give a score comprising\n",
        "black & white pegs, not arranged in any order:\n",
        "- Black peg == guess peg matches the color of a code peg in the same\n",
        "position.\n",
        "- White peg == guess peg matches the color of a code peg in another\n",
        "position.\n",
        "Create a function that takes two strings, code and guess as arguments, and\n",
        "returns the score in a dictionary.\n",
        "- The code and guess are strings of numeric digits\n",
        "- The color of the pegs are represented by numeric digits\n",
        "- no 'peg' may be double-scored\n",
        "Examples\n",
        "guess_score('1423', '5678') ➞ {'black': 0, 'white': 0}\n",
        "\n",
        "guess_score('1423', '2222') ➞ {'black': 1, 'white': 0}\n",
        "guess_score('1423', '1234') ➞ {'black': 1, 'white': 3}\n",
        "guess_score('1423', '2211') ➞ {'black': 0, 'white': 2}"
      ]
    },
    {
      "cell_type": "code",
      "execution_count": 1,
      "id": "4755a3fa",
      "metadata": {
        "id": "4755a3fa"
      },
      "outputs": [],
      "source": [
        "\n",
        "def guess_score(code, guesser):\n",
        "    \n",
        "    dict = {'black' : 0, 'white' : 0}\n",
        "    BlackCnt = 0\n",
        "    whiteCnt = 0\n",
        "\n",
        "    if len(code) != len(guesser):\n",
        "        print('code and guesser are of not of equal lenth')\n",
        "        return False\n",
        "\n",
        "    code = [code[x] for x in range(len(code))]   \n",
        "  \n",
        "    # find the black match\n",
        "    for i in range(len(guesser)):\n",
        "        if code[i] == guesser[i]:                \n",
        "            code[i] = '-'                        \n",
        "            BlackCnt += 1 \n",
        "            dict['black'] = BlackCnt             \n",
        "            \n",
        "    #for white matches\n",
        "    for i in range(len(guesser)):\n",
        "        for j in range(len(code)):              \n",
        "            if guesser[i] == code[j]:\n",
        "                code[j] = '-'                   \n",
        "                whiteCnt += 1\n",
        "                dict['white'] = whiteCnt        \n",
        "                \n",
        "    return dict"
      ]
    },
    {
      "cell_type": "code",
      "execution_count": 2,
      "id": "dd4c6edf",
      "metadata": {
        "colab": {
          "base_uri": "https://localhost:8080/"
        },
        "id": "dd4c6edf",
        "outputId": "2011944c-8064-419d-c031-1a5420441a27"
      },
      "outputs": [
        {
          "output_type": "execute_result",
          "data": {
            "text/plain": [
              "{'black': 0, 'white': 0}"
            ]
          },
          "metadata": {},
          "execution_count": 2
        }
      ],
      "source": [
        "guess_score('1423', '5678')"
      ]
    },
    {
      "cell_type": "code",
      "execution_count": 3,
      "id": "4ee1f5fb",
      "metadata": {
        "colab": {
          "base_uri": "https://localhost:8080/"
        },
        "id": "4ee1f5fb",
        "outputId": "aadbe6ec-9206-41cb-e181-cdd58f727437"
      },
      "outputs": [
        {
          "output_type": "execute_result",
          "data": {
            "text/plain": [
              "{'black': 1, 'white': 0}"
            ]
          },
          "metadata": {},
          "execution_count": 3
        }
      ],
      "source": [
        "guess_score('1423', '2222')"
      ]
    },
    {
      "cell_type": "code",
      "execution_count": 4,
      "id": "69bf36c8",
      "metadata": {
        "colab": {
          "base_uri": "https://localhost:8080/"
        },
        "id": "69bf36c8",
        "outputId": "7fb9676c-fe99-473e-a9aa-547f8b63cab5"
      },
      "outputs": [
        {
          "output_type": "execute_result",
          "data": {
            "text/plain": [
              "{'black': 1, 'white': 3}"
            ]
          },
          "metadata": {},
          "execution_count": 4
        }
      ],
      "source": [
        "guess_score('1423', '1234')"
      ]
    },
    {
      "cell_type": "code",
      "execution_count": 5,
      "id": "8d8d4ecf",
      "metadata": {
        "colab": {
          "base_uri": "https://localhost:8080/"
        },
        "id": "8d8d4ecf",
        "outputId": "1b946702-795e-400b-bcfa-3648d674efef"
      },
      "outputs": [
        {
          "output_type": "execute_result",
          "data": {
            "text/plain": [
              "{'black': 0, 'white': 2}"
            ]
          },
          "metadata": {},
          "execution_count": 5
        }
      ],
      "source": [
        "guess_score('1423', '2211')"
      ]
    },
    {
      "cell_type": "markdown",
      "id": "b700ed62",
      "metadata": {
        "id": "b700ed62"
      },
      "source": [
        "Q3). Create a function that takes a list lst and a number N and returns a list of\n",
        "two integers from lst whose product equals N.\n",
        "Examples\n",
        "two_product([1, 2, -1, 4, 5], 20) ➞ [4, 5]\n",
        "two_product([1, 2, 3, 4, 5], 10) ➞ [2, 5]\n",
        "two_product([100, 12, 4, 1, 2], 15) ➞ None"
      ]
    },
    {
      "cell_type": "code",
      "execution_count": 6,
      "id": "4718edf2",
      "metadata": {
        "id": "4718edf2"
      },
      "outputs": [],
      "source": [
        "\n",
        "def two_product(lst, n):\n",
        "    lst = sorted(lst,reverse = True)\n",
        "    divisors = []\n",
        "    for i in range(len(lst)):\n",
        "        for j in range(i+1,len(lst)):\n",
        "            if lst[i]*lst[j] == n:\n",
        "                divisors.append(lst[i])            \n",
        "                divisors.append(lst[j])\n",
        "                break            \n",
        "    return sorted(divisors)"
      ]
    },
    {
      "cell_type": "code",
      "execution_count": 7,
      "id": "e275ae2e",
      "metadata": {
        "colab": {
          "base_uri": "https://localhost:8080/"
        },
        "id": "e275ae2e",
        "outputId": "5a8dd38f-3bba-4e34-a798-c16ecb4692d0"
      },
      "outputs": [
        {
          "output_type": "execute_result",
          "data": {
            "text/plain": [
              "[4, 5]"
            ]
          },
          "metadata": {},
          "execution_count": 7
        }
      ],
      "source": [
        "two_product([1, 2, -1, 4, 5], 20)"
      ]
    },
    {
      "cell_type": "code",
      "execution_count": 8,
      "id": "979eb35b",
      "metadata": {
        "colab": {
          "base_uri": "https://localhost:8080/"
        },
        "id": "979eb35b",
        "outputId": "e377b7ba-0d3a-4c66-c840-03a2d4507cd0"
      },
      "outputs": [
        {
          "output_type": "execute_result",
          "data": {
            "text/plain": [
              "[2, 5]"
            ]
          },
          "metadata": {},
          "execution_count": 8
        }
      ],
      "source": [
        "two_product([1, 2, 3, 4, 5], 10)"
      ]
    },
    {
      "cell_type": "code",
      "execution_count": 9,
      "id": "137beb28",
      "metadata": {
        "colab": {
          "base_uri": "https://localhost:8080/"
        },
        "id": "137beb28",
        "outputId": "d0e0297f-fff0-4013-d4b3-bf9b2ba76fd5"
      },
      "outputs": [
        {
          "output_type": "execute_result",
          "data": {
            "text/plain": [
              "[]"
            ]
          },
          "metadata": {},
          "execution_count": 9
        }
      ],
      "source": [
        "two_product([100, 12, 4, 1, 2], 15)"
      ]
    },
    {
      "cell_type": "markdown",
      "id": "303f36ea",
      "metadata": {
        "id": "303f36ea"
      },
      "source": [
        "Q4). In this challenge, sort a list containing a series of dates given as strings.\n",
        "Each date is given in the format DD-MM-YYYY_HH:MM:\n",
        "'12-02-2012_13:44'\n",
        "The priority of criteria used for sorting will be:\n",
        "- Year\n",
        "- Month\n",
        "- Day\n",
        "- Hours\n",
        "- Minutes\n",
        "Given a list lst and a string mode, implement a function that returns:\n",
        "- if mode is equal to 'ASC', the list lst sorted in ascending order.\n",
        "- if mode is equal to 'DSC', the list lst sorted in descending order.\n",
        "Examples\n",
        "sort_dates(['10-02-2018_12:30', '10-02-2016_12:30', '10-02-2018_12:15'],\n",
        "'ASC') ➞ ['10-02-2016_12:30', '10-02-2018_12:15', '10-02-2018_12:30']\n",
        "sort_dates(['10-02-2018_12:30', '10-02-2016_12:30', '10-02-2018_12:15'],\n",
        "'DSC') ➞ ['10-02-2018_12:30', '10-02-2018_12:15', '10-02-2016_12:30']\n",
        "\n",
        "sort_dates(['09-02-2000_10:03', '10-02-2000_18:29', '01-01-1999_00:55'],\n",
        "'ASC') ➞ ['01-01-1999_00:55', '09-02-2000_10:03', '10-02-2000_18:29']"
      ]
    },
    {
      "cell_type": "code",
      "execution_count": 10,
      "id": "3f22703b",
      "metadata": {
        "id": "3f22703b"
      },
      "outputs": [],
      "source": [
        "import datetime\n",
        "def sort_dates(d, sort):\n",
        "    if sort == 'ASC':\n",
        "        print(\"Sorting in Ascending order\")\n",
        "        return sorted(d, key=lambda x: datetime.datetime.strptime(x, '%d-%m-%Y_%H:%M'), reverse = False)\n",
        "    elif sort == 'DSC':\n",
        "        print(\"Sorting in Descending order\")\n",
        "        return sorted(d, key=lambda x: datetime.datetime.strptime(x, '%d-%m-%Y_%H:%M'), reverse = True)\n",
        "    else:\n",
        "        print(\"Provide right sorting order\")"
      ]
    },
    {
      "cell_type": "code",
      "execution_count": 11,
      "id": "a29e4f37",
      "metadata": {
        "colab": {
          "base_uri": "https://localhost:8080/"
        },
        "id": "a29e4f37",
        "outputId": "83a482dd-fe44-4d7b-b209-7b4f63060700"
      },
      "outputs": [
        {
          "output_type": "stream",
          "name": "stdout",
          "text": [
            "Sorting in Ascending order\n"
          ]
        },
        {
          "output_type": "execute_result",
          "data": {
            "text/plain": [
              "['10-02-2016_12:30', '10-02-2018_12:15', '10-02-2018_12:30']"
            ]
          },
          "metadata": {},
          "execution_count": 11
        }
      ],
      "source": [
        "sort_dates(['10-02-2018_12:30', '10-02-2016_12:30', '10-02-2018_12:15'],\n",
        "'ASC')"
      ]
    },
    {
      "cell_type": "code",
      "execution_count": 12,
      "id": "d3f5b3e3",
      "metadata": {
        "colab": {
          "base_uri": "https://localhost:8080/"
        },
        "id": "d3f5b3e3",
        "outputId": "a492ba02-4bc7-422e-dcf6-5ada0054db9b"
      },
      "outputs": [
        {
          "output_type": "stream",
          "name": "stdout",
          "text": [
            "Sorting in Descending order\n"
          ]
        },
        {
          "output_type": "execute_result",
          "data": {
            "text/plain": [
              "['10-02-2018_12:30', '10-02-2018_12:15', '10-02-2016_12:30']"
            ]
          },
          "metadata": {},
          "execution_count": 12
        }
      ],
      "source": [
        "sort_dates(['10-02-2018_12:30', '10-02-2016_12:30', '10-02-2018_12:15'],\n",
        "'DSC')"
      ]
    },
    {
      "cell_type": "code",
      "execution_count": 13,
      "id": "5b17d557",
      "metadata": {
        "colab": {
          "base_uri": "https://localhost:8080/"
        },
        "id": "5b17d557",
        "outputId": "74dd18da-5c28-4b3b-dab2-f10da9ceb275"
      },
      "outputs": [
        {
          "output_type": "stream",
          "name": "stdout",
          "text": [
            "Sorting in Ascending order\n"
          ]
        },
        {
          "output_type": "execute_result",
          "data": {
            "text/plain": [
              "['01-01-1999_00:55', '09-02-2000_10:03', '10-02-2000_18:29']"
            ]
          },
          "metadata": {},
          "execution_count": 13
        }
      ],
      "source": [
        "sort_dates(['09-02-2000_10:03', '10-02-2000_18:29', '01-01-1999_00:55'],\n",
        "'ASC')"
      ]
    },
    {
      "cell_type": "markdown",
      "id": "58a4e9b6",
      "metadata": {
        "id": "58a4e9b6"
      },
      "source": [
        "Q5). Write a function that selects all words that have all the same vowels (in any\n",
        "order and/or number) as the first word, including the first word.\n",
        "Examples\n",
        "same_vowel_group(['toe', 'ocelot', 'maniac']) ➞ ['toe', 'ocelot']\n",
        "same_vowel_group(['many', 'carriage', 'emit', 'apricot', 'animal']) ➞\n",
        "['many']\n",
        "same_vowel_group(['hoops', 'chuff', 'bot', 'bottom']) ➞ ['hoops', 'bot',\n",
        "'bottom']"
      ]
    },
    {
      "cell_type": "code",
      "execution_count": 14,
      "id": "910e4942",
      "metadata": {
        "id": "910e4942"
      },
      "outputs": [],
      "source": [
        "def findVowelInWord(word):\n",
        "    vowel = 'aeiou'\n",
        "    lstvowstr = ''    \n",
        "    for i in range(len(word)):        \n",
        "        if word[i] in vowel:\n",
        "            lstvowstr = lstvowstr + word[i]\n",
        "    return ''.join(set(lstvowstr)) # find the unique vowels in the word\n",
        "\n",
        "\n",
        "def same_vowel_group(lst):\n",
        "    vowel = 'aeiou'\n",
        "    resultlst = []\n",
        "    test = findVowelInWord(lst[0])   # find the vowels in each word of the list     \n",
        "    resultlst.append(lst[0]) # append the first word in to list\n",
        "    for i in range(1,len(lst)):\n",
        "        vowWord = findVowelInWord(lst[i])\n",
        "        if test == vowWord: # check the vowel of each word with first word in the list\n",
        "            resultlst.append(lst[i])\n",
        "    return resultlst"
      ]
    },
    {
      "cell_type": "code",
      "execution_count": 15,
      "id": "63e4541f",
      "metadata": {
        "colab": {
          "base_uri": "https://localhost:8080/"
        },
        "id": "63e4541f",
        "outputId": "c257284e-1d3e-46c1-eecb-efe107799a4d"
      },
      "outputs": [
        {
          "output_type": "execute_result",
          "data": {
            "text/plain": [
              "['toe', 'ocelot']"
            ]
          },
          "metadata": {},
          "execution_count": 15
        }
      ],
      "source": [
        "same_vowel_group(['toe', 'ocelot', 'maniac'])"
      ]
    },
    {
      "cell_type": "code",
      "execution_count": 16,
      "id": "11fd3ea5",
      "metadata": {
        "colab": {
          "base_uri": "https://localhost:8080/"
        },
        "id": "11fd3ea5",
        "outputId": "9913f9b3-953d-4cbe-afb6-834e6e7d3fe9"
      },
      "outputs": [
        {
          "output_type": "execute_result",
          "data": {
            "text/plain": [
              "['many']"
            ]
          },
          "metadata": {},
          "execution_count": 16
        }
      ],
      "source": [
        "same_vowel_group(['many', 'carriage', 'emit', 'apricot', 'animal'])"
      ]
    },
    {
      "cell_type": "code",
      "execution_count": 17,
      "id": "7cf1c90c",
      "metadata": {
        "colab": {
          "base_uri": "https://localhost:8080/"
        },
        "id": "7cf1c90c",
        "outputId": "20d9c1c5-be3d-4faf-e780-e67860d064a5"
      },
      "outputs": [
        {
          "output_type": "execute_result",
          "data": {
            "text/plain": [
              "['hoops', 'bot', 'bottom']"
            ]
          },
          "metadata": {},
          "execution_count": 17
        }
      ],
      "source": [
        "same_vowel_group(['hoops', 'chuff', 'bot', 'bottom'])"
      ]
    },
    {
      "cell_type": "markdown",
      "id": "7c14178c",
      "metadata": {
        "id": "7c14178c"
      },
      "source": [
        "\n",
        "Q6). Create a function that takes a list of more than three numbers and returns\n",
        "the Least Common Multiple (LCM).\n",
        "Examples\n",
        "lcm_of_list([1, 2, 3, 4, 5, 6, 7, 8, 9, 10]) ➞ 2520\n",
        "lcm_of_list([13, 6, 17, 18, 19, 20, 37]) ➞ 27965340\n",
        "lcm_of_list([44, 64, 12, 17, 65]) ➞ 2333760"
      ]
    },
    {
      "cell_type": "code",
      "execution_count": 18,
      "id": "cf285f95",
      "metadata": {
        "id": "cf285f95"
      },
      "outputs": [],
      "source": [
        "from math import gcd\n",
        "def lcm_of_list(lst):\n",
        "    a = [100, 200, 150]   \n",
        "    lcm = 1\n",
        "    for i in lst:\n",
        "        lcm = lcm*i//gcd(lcm, i)\n",
        "    return lcm"
      ]
    },
    {
      "cell_type": "code",
      "execution_count": 19,
      "id": "1d3f91d3",
      "metadata": {
        "colab": {
          "base_uri": "https://localhost:8080/"
        },
        "id": "1d3f91d3",
        "outputId": "cbc7f37f-abe5-4c3d-fdea-b2dc93345ebe"
      },
      "outputs": [
        {
          "output_type": "execute_result",
          "data": {
            "text/plain": [
              "2520"
            ]
          },
          "metadata": {},
          "execution_count": 19
        }
      ],
      "source": [
        "lcm_of_list([1, 2, 3, 4, 5, 6, 7, 8, 9, 10])"
      ]
    },
    {
      "cell_type": "code",
      "execution_count": 20,
      "id": "8ca6f9b5",
      "metadata": {
        "colab": {
          "base_uri": "https://localhost:8080/"
        },
        "id": "8ca6f9b5",
        "outputId": "812933c7-40fd-440a-d99c-8cc6b5edae8c"
      },
      "outputs": [
        {
          "output_type": "execute_result",
          "data": {
            "text/plain": [
              "27965340"
            ]
          },
          "metadata": {},
          "execution_count": 20
        }
      ],
      "source": [
        "lcm_of_list([13, 6, 17, 18, 19, 20, 37])"
      ]
    },
    {
      "cell_type": "code",
      "execution_count": 21,
      "id": "227af692",
      "metadata": {
        "colab": {
          "base_uri": "https://localhost:8080/"
        },
        "id": "227af692",
        "outputId": "6819001b-fefa-43af-c2ee-efe04ad3a59c"
      },
      "outputs": [
        {
          "output_type": "execute_result",
          "data": {
            "text/plain": [
              "2333760"
            ]
          },
          "metadata": {},
          "execution_count": 21
        }
      ],
      "source": [
        "lcm_of_list([44, 64, 12, 17, 65])"
      ]
    },
    {
      "cell_type": "code",
      "source": [
        ""
      ],
      "metadata": {
        "id": "Cw3cgdWX6QIK"
      },
      "id": "Cw3cgdWX6QIK",
      "execution_count": null,
      "outputs": []
    }
  ],
  "metadata": {
    "kernelspec": {
      "display_name": "Python 3",
      "language": "python",
      "name": "python3"
    },
    "language_info": {
      "codemirror_mode": {
        "name": "ipython",
        "version": 3
      },
      "file_extension": ".py",
      "mimetype": "text/x-python",
      "name": "python",
      "nbconvert_exporter": "python",
      "pygments_lexer": "ipython3",
      "version": "3.8.8"
    },
    "colab": {
      "name": "Advance_Programming_Assignment_25.ipynb",
      "provenance": []
    }
  },
  "nbformat": 4,
  "nbformat_minor": 5
}